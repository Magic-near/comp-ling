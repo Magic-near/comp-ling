{
 "cells": [
  {
   "cell_type": "code",
   "execution_count": 1,
   "metadata": {},
   "outputs": [],
   "source": [
    "import re"
   ]
  },
  {
   "cell_type": "markdown",
   "metadata": {},
   "source": [
    "Напишите регулярное выражение, которое возвращает список первых двух букв каждого слова строки. Обратите внимание на работу с дефисом."
   ]
  },
  {
   "cell_type": "code",
   "execution_count": 102,
   "metadata": {},
   "outputs": [],
   "source": [
    "text = \"— А ты-то молоко купил? \\\n",
    "        — Я-то купил, а ты сам-то хоть про чай не забыл?\""
   ]
  },
  {
   "cell_type": "code",
   "execution_count": 103,
   "metadata": {},
   "outputs": [
    {
     "data": {
      "text/plain": [
       "['ты', 'мо', 'ку', 'ку', 'ты', 'са', 'хо', 'пр', 'ча', 'не', 'за']"
      ]
     },
     "execution_count": 103,
     "metadata": {},
     "output_type": "execute_result"
    }
   ],
   "source": [
    "pattern = r'[^-](\\b\\w\\w)'\n",
    "re.findall(pattern, text)"
   ]
  },
  {
   "cell_type": "markdown",
   "metadata": {},
   "source": [
    "Напишите регулярное выражение, которое выбирает из строки все слова, в которых строго больше 3 символов."
   ]
  },
  {
   "cell_type": "code",
   "execution_count": 87,
   "metadata": {},
   "outputs": [
    {
     "data": {
      "text/plain": [
       "['молоко', 'купил', 'купил', 'хоть', 'забыл']"
      ]
     },
     "execution_count": 87,
     "metadata": {},
     "output_type": "execute_result"
    }
   ],
   "source": [
    "pattern = r'\\w{4,}'\n",
    "re.findall(pattern, text)"
   ]
  },
  {
   "cell_type": "markdown",
   "metadata": {},
   "source": [
    "Напишите регулярное выражение, которое заменит все подстроки, обозначающие время (только время, не даты), в строке на TBD."
   ]
  },
  {
   "cell_type": "code",
   "execution_count": 20,
   "metadata": {},
   "outputs": [],
   "source": [
    "text = \"Время работы гипермаркетов Лента: 31.12.2020 до 28:00, с 1.01.2021 с 10:00 и далее в обычном режиме.\""
   ]
  },
  {
   "cell_type": "code",
   "execution_count": 21,
   "metadata": {},
   "outputs": [
    {
     "data": {
      "text/plain": [
       "'Время работы гипермаркетов Лента: 31.12.2020 до 28:00, с 1.01.2021 с TBD и далее в обычном режиме.'"
      ]
     },
     "execution_count": 21,
     "metadata": {},
     "output_type": "execute_result"
    }
   ],
   "source": [
    "pattern = r' ([01]?[0-9]|2[0-3]):[0-5][0-9]'\n",
    "re.sub(pattern, ' TBD', text)"
   ]
  },
  {
   "cell_type": "markdown",
   "metadata": {},
   "source": [
    "Напишите регулярное выражение, которое заменяет произвольное количество пробельных символов внутри строки на один пробел."
   ]
  },
  {
   "cell_type": "code",
   "execution_count": 94,
   "metadata": {},
   "outputs": [],
   "source": [
    "text = \"Время работы гипермаркетов      Лента: 31.12.2020 до 22:00, с 1.01.2021 с    10:00 и далее    в обычном                                     режиме.\""
   ]
  },
  {
   "cell_type": "code",
   "execution_count": 96,
   "metadata": {},
   "outputs": [
    {
     "data": {
      "text/plain": [
       "'Время работы гипермаркетов Лента: 31.12.2020 до 22:00, с 1.01.2021 с 10:00 и далее в обычном режиме.'"
      ]
     },
     "execution_count": 96,
     "metadata": {},
     "output_type": "execute_result"
    }
   ],
   "source": [
    "pattern = r'\\s\\s+'\n",
    "re.sub(pattern, ' ', text)"
   ]
  },
  {
   "cell_type": "markdown",
   "metadata": {},
   "source": [
    "Напишите регулярное выражение, которое удаляет идущие подряд повторы. Одно слово из группы должно остаться."
   ]
  },
  {
   "cell_type": "code",
   "execution_count": 104,
   "metadata": {},
   "outputs": [],
   "source": [
    "text = \"Время работы работы работы гипермаркетов Лента Лента: 31.12.2020 до 22:00, с 1.01.2021 с 10:00 и далее в обычном режиме.\""
   ]
  },
  {
   "cell_type": "code",
   "execution_count": 107,
   "metadata": {},
   "outputs": [
    {
     "data": {
      "text/plain": [
       "'Время работы гипермаркетов Лента: 31.12.2020 до 22:00, с 1.01.2021 с 10:00 и далее в обычном режиме.'"
      ]
     },
     "execution_count": 107,
     "metadata": {},
     "output_type": "execute_result"
    }
   ],
   "source": [
    "pattern = r'\\b(\\w+)( \\1\\b)+'\n",
    "re.sub(pattern, r'\\1', text)"
   ]
  },
  {
   "cell_type": "markdown",
   "metadata": {},
   "source": [
    "Напишите регулярное выражение, которое определяет, что подстрока является адресом электронной почты."
   ]
  },
  {
   "cell_type": "code",
   "execution_count": 2,
   "metadata": {},
   "outputs": [],
   "source": [
    "text = \"Если вы хотите связаться непосредственно с сотрудником «Билайн» или оставить жалобу, вы можете: \\\n",
    "        Написать письмо на internet@beeline.ru; \\\n",
    "        Позвонить оператору горячей линии на номер +78007008000.\""
   ]
  },
  {
   "cell_type": "code",
   "execution_count": 3,
   "metadata": {},
   "outputs": [
    {
     "data": {
      "text/plain": [
       "['internet@beeline.ru']"
      ]
     },
     "execution_count": 3,
     "metadata": {},
     "output_type": "execute_result"
    }
   ],
   "source": [
    "pattern = r'\\w+@\\w+.\\w{2,3}'\n",
    "re.findall(pattern, text)"
   ]
  },
  {
   "cell_type": "markdown",
   "metadata": {},
   "source": [
    "Напишите регулярное выражение, которое возвращает список аббревиатур в строке."
   ]
  },
  {
   "cell_type": "code",
   "execution_count": 1,
   "metadata": {},
   "outputs": [],
   "source": [
    "text = \"НАСА было создано 29 июля 1958 года путём реорганизации НАКА в рамках «космической гонки» после запуска СССР первого искусственного спутника Земли.\""
   ]
  },
  {
   "cell_type": "code",
   "execution_count": 10,
   "metadata": {},
   "outputs": [
    {
     "data": {
      "text/plain": [
       "['НАСА', 'НАКА', 'СССР']"
      ]
     },
     "execution_count": 10,
     "metadata": {},
     "output_type": "execute_result"
    }
   ],
   "source": [
    "pattern = r'\\b(?:[А-Я][а-я]*){2,}'\n",
    "re.findall(pattern, text)"
   ]
  },
  {
   "cell_type": "markdown",
   "metadata": {},
   "source": [
    "Напишите регулярное выражение, которое разделяет текст на предложения."
   ]
  },
  {
   "cell_type": "code",
   "execution_count": 82,
   "metadata": {},
   "outputs": [],
   "source": [
    "text = \"Как Мардж Гундерсон появилась в картине? Это загадка из серии «курица или яйцо». С одной стороны, исследователи нашли немало очевидных и неочевидных художественных причин, почему Коэны поставили в сюжет беременную женщину, а не привычного усатого шерифа. С другой стороны, мы знаем, что роль Мардж была написана специально для актрисы Фрэнсис МакДорманд, супруги Джоэла Коэна.\""
   ]
  },
  {
   "cell_type": "code",
   "execution_count": 84,
   "metadata": {},
   "outputs": [
    {
     "data": {
      "text/plain": [
       "['Как Мардж Гундерсон появилась в картине?',\n",
       " ' Это загадка из серии «курица или яйцо».',\n",
       " ' С одной стороны, исследователи нашли немало очевидных и неочевидных художественных причин, почему Коэны поставили в сюжет беременную женщину, а не привычного усатого шерифа.',\n",
       " ' С другой стороны, мы знаем, что роль Мардж была написана специально для актрисы Фрэнсис МакДорманд, супруги Джоэла Коэна.']"
      ]
     },
     "execution_count": 84,
     "metadata": {},
     "output_type": "execute_result"
    }
   ],
   "source": [
    "pattern = r'[^\\.\\!\\?]*[\\.!?]'\n",
    "re.findall(pattern, text)"
   ]
  },
  {
   "cell_type": "markdown",
   "metadata": {},
   "source": [
    "Напишите регулярное выражение, которое определяет, что строка является номером российского мобильного телефона любого оператора."
   ]
  },
  {
   "cell_type": "code",
   "execution_count": 51,
   "metadata": {},
   "outputs": [],
   "source": [
    "text = \"Если вы хотите связаться непосредственно с сотрудником «Билайн» или оставить жалобу, вы можете: \\\n",
    "        Написать письмо на internet@beeline.ru; \\\n",
    "        Позвонить оператору горячей линии на номер 8 800 700 80 00.\""
   ]
  },
  {
   "cell_type": "code",
   "execution_count": 52,
   "metadata": {},
   "outputs": [
    {
     "data": {
      "text/plain": [
       "['8 800 700 80 00']"
      ]
     },
     "execution_count": 52,
     "metadata": {},
     "output_type": "execute_result"
    }
   ],
   "source": [
    "pattern = r'[\\.8] [\\d]{3} [\\d]{3} [\\d]{2} [\\d]{2}'\n",
    "re.findall(pattern, text)"
   ]
  },
  {
   "cell_type": "markdown",
   "metadata": {},
   "source": [
    "Напишите регулярное выражение, которое проверяет, что все предложения в строке начинаются с заглавной буквы."
   ]
  },
  {
   "cell_type": "code",
   "execution_count": 78,
   "metadata": {},
   "outputs": [],
   "source": [
    "text = \"Как Мардж Гундерсон появилась в картине? это загадка из серии «курица или яйцо». С одной стороны, исследователи нашли немало очевидных и неочевидных художественных причин, почему Коэны поставили в сюжет беременную женщину, а не привычного усатого шерифа. С другой стороны, мы знаем, что роль Мардж была написана специально для актрисы Фрэнсис МакДорманд, супруги Джоэла Коэна.\""
   ]
  },
  {
   "cell_type": "code",
   "execution_count": 79,
   "metadata": {},
   "outputs": [
    {
     "data": {
      "text/plain": [
       "['Как Мардж Гундерсон появилась в картине?',\n",
       " 'С одной стороны, исследователи нашли немало очевидных и неочевидных художественных причин, почему Коэны поставили в сюжет беременную женщину, а не привычного усатого шерифа.',\n",
       " 'С другой стороны, мы знаем, что роль Мардж была написана специально для актрисы Фрэнсис МакДорманд, супруги Джоэла Коэна.']"
      ]
     },
     "execution_count": 79,
     "metadata": {},
     "output_type": "execute_result"
    }
   ],
   "source": [
    "pattern = r'[А-Я].*?[\\.!?]'\n",
    "re.findall(pattern, text)"
   ]
  }
 ],
 "metadata": {
  "kernelspec": {
   "display_name": "Python 3",
   "language": "python",
   "name": "python3"
  },
  "language_info": {
   "codemirror_mode": {
    "name": "ipython",
    "version": 3
   },
   "file_extension": ".py",
   "mimetype": "text/x-python",
   "name": "python",
   "nbconvert_exporter": "python",
   "pygments_lexer": "ipython3",
   "version": "3.6.9"
  }
 },
 "nbformat": 4,
 "nbformat_minor": 4
}
